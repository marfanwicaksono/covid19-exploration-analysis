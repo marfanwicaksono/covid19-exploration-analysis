{
 "nbformat": 4,
 "nbformat_minor": 2,
 "metadata": {
  "language_info": {
   "name": "python",
   "codemirror_mode": {
    "name": "ipython",
    "version": 3
   },
   "version": "3.7.5-final"
  },
  "orig_nbformat": 2,
  "file_extension": ".py",
  "mimetype": "text/x-python",
  "name": "python",
  "npconvert_exporter": "python",
  "pygments_lexer": "ipython3",
  "version": 3,
  "kernelspec": {
   "name": "python37564bitb49c080813e7423d95eccf6168758970",
   "display_name": "Python 3.7.5 64-bit"
  }
 },
 "cells": [
  {
   "cell_type": "code",
   "execution_count": null,
   "metadata": {},
   "outputs": [],
   "source": [
    "# Import required module\n",
    "import pandas as pd\n",
    "import numpy as np\n",
    "import seaborn as sns\n",
    "import matplotlib.pyplot as plt"
   ]
  },
  {
   "cell_type": "code",
   "execution_count": null,
   "metadata": {},
   "outputs": [],
   "source": [
    "df_patient = pd.read_csv('PatientInfo.csv', index_col=0)\n",
    "\n",
    "df_patient"
   ]
  },
  {
   "cell_type": "code",
   "execution_count": null,
   "metadata": {},
   "outputs": [],
   "source": [
    "df_patient.describe(include='all')"
   ]
  },
  {
   "cell_type": "code",
   "execution_count": null,
   "metadata": {},
   "outputs": [],
   "source": [
    "df_patient.dtypes"
   ]
  },
  {
   "cell_type": "code",
   "execution_count": null,
   "metadata": {},
   "outputs": [],
   "source": [
    "df_patient.isnull().sum()"
   ]
  },
  {
   "cell_type": "code",
   "execution_count": null,
   "metadata": {},
   "outputs": [],
   "source": [
    "df_patient = df_patient[['sex','age','country','province','city','symptom_onset_date','confirmed_date','released_date','deceased_date','state']]\n",
    "\n",
    "df_patient['confirmed_date'] = pd.to_datetime(df_patient['confirmed_date'])\n",
    "\n",
    "df_patient['state'].value_counts().to_dict()"
   ]
  },
  {
   "cell_type": "code",
   "execution_count": null,
   "metadata": {},
   "outputs": [],
   "source": [
    "# Group by sex\n",
    "sns.countplot(x='sex',hue='state',data=df_patient)\n",
    "plt.show()\n",
    "\n",
    "all_sex = df_patient.groupby(['sex']).size().reset_index(name='all')\n",
    "deceased_sex = df_patient[df_patient['state']=='deceased'].groupby(['sex']).size().reset_index(name='deceased')\n",
    "released_sex = df_patient[df_patient['state']=='released'].groupby(['sex']).size().reset_index(name='released')\n",
    "\n",
    "mortality_sex = all_sex.merge(deceased_sex)\n",
    "mortality_sex = mortality_sex.merge(released_sex)\n",
    "mortality_sex['mortality_rate'] = mortality_sex['deceased']/mortality_sex['all']\n",
    "display(mortality_sex)\n",
    "\n",
    "# Group by age\n",
    "sns.countplot(x='age',order=['0s','10s','20s','30s','40s','50s','60s','70s','80s','90s','100s'],hue='state',data=df_patient)\n",
    "plt.show()\n",
    "\n",
    "all_age = df_patient.groupby(['age']).size().reset_index(name='all')\n",
    "deceased_age = df_patient[df_patient['state']=='deceased'].groupby(['age']).size().reset_index(name='deceased')\n",
    "released_age = df_patient[df_patient['state']=='released'].groupby(['age']).size().reset_index(name='released')\n",
    "\n",
    "mortality_age = all_age.merge(deceased_age)\n",
    "mortality_age = mortality_age.merge(released_age)\n",
    "mortality_age['mortality_rate'] = mortality_age['deceased']/mortality_age['all']\n",
    "display(mortality_age)"
   ]
  },
  {
   "cell_type": "code",
   "execution_count": null,
   "metadata": {},
   "outputs": [],
   "source": [
    "time_age = df_patient.groupby(['confirmed_date','age']).size().reset_index(name='count')\n",
    "time_age['cum_sum'] = time_age.groupby(['age'])['count'].cumsum()\n",
    "time_age['cum_perc'] = 100*time_age['cum_sum']/time_age['count'].sum()\n",
    "display(time_age)\n",
    "\n",
    "sns.lineplot(x='confirmed_date',y='cum_sum',hue='age', hue_order=['0s','10s','20s','30s','40s','50s','60s','70s','80s','90s','100s'],data=time_age)\n",
    "plt.show()\n",
    "\n",
    "time_sex = df_patient.groupby(['confirmed_date','sex']).size().reset_index(name='count')\n",
    "time_sex['cum_sum'] = time_sex.groupby(['sex'])['count'].cumsum()\n",
    "time_sex['cum_perc'] = 100*time_sex['cum_sum']/time_sex['count'].sum()\n",
    "display(time_sex)\n",
    "\n",
    "sns.lineplot(x='confirmed_date',y='cum_sum',hue='sex',data=time_sex)\n",
    "plt.show()"
   ]
  },
  {
   "cell_type": "code",
   "execution_count": null,
   "metadata": {},
   "outputs": [],
   "source": []
  }
 ]
}